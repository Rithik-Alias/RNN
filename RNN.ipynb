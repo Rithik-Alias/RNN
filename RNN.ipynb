{
  "nbformat": 4,
  "nbformat_minor": 0,
  "metadata": {
    "colab": {
      "name": "RNN.ipynb",
      "provenance": [],
      "collapsed_sections": []
    },
    "kernelspec": {
      "name": "python3",
      "display_name": "Python 3"
    }
  },
  "cells": [
    {
      "cell_type": "markdown",
      "metadata": {
        "id": "sZ1K9A5lzuVI"
      },
      "source": [
        "We'll start off by importing the main PyTorch package along with the nn package which we will use when building the model. In addition, we'll only be using NumPy to pre-process our data as Torch works really well with NumPy."
      ]
    },
    {
      "cell_type": "code",
      "metadata": {
        "id": "xpShjcCnrocT"
      },
      "source": [
        "import torch\r\n",
        "from torch import nn\r\n",
        "import numpy as np"
      ],
      "execution_count": 18,
      "outputs": []
    },
    {
      "cell_type": "markdown",
      "metadata": {
        "id": "CrEGLrcPzv9T"
      },
      "source": [
        "First, we'll define the sentences that we want our model to output when fed with the first word or the first few characters.\r\n",
        "\r\n",
        "Then we'll create a dictionary out of all the characters that we have in the sentences and map them to an integer. This will allow us to convert our input characters to their respective integers (char2int) and vice versa (int2char)."
      ]
    },
    {
      "cell_type": "code",
      "metadata": {
        "colab": {
          "base_uri": "https://localhost:8080/"
        },
        "id": "xk1YkNZmrpe7",
        "outputId": "d8099965-9ae1-4027-cd0b-e9ac1a41d475"
      },
      "source": [
        "text = ['hey how are you','good i am fine','have a nice day']\r\n",
        "# Join all the sentences together and extract the unique characters from the combined sentences\r\n",
        "chars = set(''.join(text))\r\n",
        "print(chars)\r\n",
        "# Creating a dictionary that maps integers to the characters\r\n",
        "int2char = dict(enumerate(chars))\r\n",
        "print(int2char)\r\n",
        "# Creating another dictionary that maps characters to integers\r\n",
        "char2int = {char: ind for ind, char in int2char.items()}\r\n",
        "print(char2int)"
      ],
      "execution_count": 30,
      "outputs": [
        {
          "output_type": "stream",
          "text": [
            "{'u', 'i', ' ', 'r', 'f', 'o', 'd', 'm', 'c', 'e', 'y', 'n', 'a', 'h', 'g', 'v', 'w'}\n",
            "{0: 'u', 1: 'i', 2: ' ', 3: 'r', 4: 'f', 5: 'o', 6: 'd', 7: 'm', 8: 'c', 9: 'e', 10: 'y', 11: 'n', 12: 'a', 13: 'h', 14: 'g', 15: 'v', 16: 'w'}\n",
            "{'u': 0, 'i': 1, ' ': 2, 'r': 3, 'f': 4, 'o': 5, 'd': 6, 'm': 7, 'c': 8, 'e': 9, 'y': 10, 'n': 11, 'a': 12, 'h': 13, 'g': 14, 'v': 15, 'w': 16}\n"
          ],
          "name": "stdout"
        }
      ]
    },
    {
      "cell_type": "markdown",
      "metadata": {
        "id": "ednRUuGizzzK"
      },
      "source": [
        "Next, we'll be padding our input sentences to ensure that all the sentences are of standard length. While RNNs are typically able to take in variably sized inputs, we will usually want to feed training data in batches to speed up the training process. In order to used batches to train on our data, we'll need to ensure that each sequence within the input data is of equal size.\r\n",
        "\r\n",
        "Therefore, in most cases, padding can be done by filling up sequences that are too short with 0 values and trimming sequences that are too long. In our case, we'll be finding the length of the longest sequence and padding the rest of the sentences with blank spaces to match that length."
      ]
    },
    {
      "cell_type": "code",
      "metadata": {
        "colab": {
          "base_uri": "https://localhost:8080/"
        },
        "id": "1lrKxQcIsMJZ",
        "outputId": "77c368a1-fd20-435d-dc58-bd7598103fe6"
      },
      "source": [
        "# Finding the length of the longest string in our data\r\n",
        "maxlen = len(max(text, key=len))\r\n",
        "print(maxlen)\r\n",
        "# Padding\r\n",
        "# A simple loop that loops through the list of sentences and adds a ' ' whitespace until the length of the sentence matches the length of the longest sentence\r\n",
        "print(text)\r\n",
        "for i in range(len(text)):\r\n",
        "  while len(text[i])<maxlen:\r\n",
        "      text[i] += ' '\r\n",
        "print(text)"
      ],
      "execution_count": 31,
      "outputs": [
        {
          "output_type": "stream",
          "text": [
            "15\n",
            "['hey how are you', 'good i am fine', 'have a nice day']\n",
            "['hey how are you', 'good i am fine ', 'have a nice day']\n"
          ],
          "name": "stdout"
        }
      ]
    },
    {
      "cell_type": "markdown",
      "metadata": {
        "id": "91QgFbpm0Fv7"
      },
      "source": [
        "As we're going to predict the next character in the sequence at each time step, we'll have to divide each sentence into:\r\n",
        "\r\n",
        "**Input data**\r\n",
        "\r\n",
        "  The last input character should be excluded as it does not need to be fed into the model\r\n",
        "\r\n",
        "**Target/Ground Truth Label**\r\n",
        "\r\n",
        "  One time-step ahead of the Input data as this will be the \"correct answer\" for the model at each time step corresponding to the input data"
      ]
    },
    {
      "cell_type": "code",
      "metadata": {
        "colab": {
          "base_uri": "https://localhost:8080/"
        },
        "id": "WKfzq_8qsTX1",
        "outputId": "e37915fe-5b78-4d64-badb-7d345e0967c3"
      },
      "source": [
        "# Creating lists that will hold our input and target sequences\r\n",
        "input_seq = []\r\n",
        "target_seq = []\r\n",
        "\r\n",
        "for i in range(len(text)):\r\n",
        "    # Remove last character for input sequence\r\n",
        "  input_seq.append(text[i][:-1])\r\n",
        "    \r\n",
        "    # Remove first character for target sequence\r\n",
        "  target_seq.append(text[i][1:])\r\n",
        "  print(\"Input Sequence: {}\\nTarget Sequence: {}\".format(input_seq[i], target_seq[i]))"
      ],
      "execution_count": 39,
      "outputs": [
        {
          "output_type": "stream",
          "text": [
            "Input Sequence: hey how are yo\n",
            "Target Sequence: ey how are you\n",
            "Input Sequence: good i am fine\n",
            "Target Sequence: ood i am fine \n",
            "Input Sequence: have a nice da\n",
            "Target Sequence: ave a nice day\n"
          ],
          "name": "stdout"
        }
      ]
    },
    {
      "cell_type": "markdown",
      "metadata": {
        "id": "KdRnNXPC0jfl"
      },
      "source": [
        "Now we can convert our input and target sequences to sequences of integers instead of a sequence of characters by mapping them using the dictionaries we created above. This will allow us to one-hot-encode our input sequence subsequently."
      ]
    },
    {
      "cell_type": "code",
      "metadata": {
        "id": "a7JpTtLysU2-"
      },
      "source": [
        "for i in range(len(text)):\r\n",
        "    input_seq[i] = [char2int[character] for character in input_seq[i]]\r\n",
        "    target_seq[i] = [char2int[character] for character in target_seq[i]]"
      ],
      "execution_count": 7,
      "outputs": []
    },
    {
      "cell_type": "markdown",
      "metadata": {
        "id": "PR1ws35q0kmt"
      },
      "source": [
        "Before encoding our input sequence into one-hot vectors, we'll define 3 key variables:\r\n",
        "\r\n",
        "**dict_size**: Dictionary size - The number of unique characters that we have in our text\r\n",
        "\r\n",
        "This will determine the one-hot vector size as each character will have an assigned index in that vector\r\n",
        "\r\n",
        "**seq_len**: The length of the sequences that we're feeding into the model\r\n",
        "\r\n",
        "As we standardized the length of all our sentences to be equal to the longest sentences, this value will be the max length - 1 as we removed the last character input as well\r\n",
        "\r\n",
        "**batch_size**: The number of sentences that we defined and are going to feed into the model as a batch"
      ]
    },
    {
      "cell_type": "code",
      "metadata": {
        "id": "5ozYHJcvscuW"
      },
      "source": [
        "dict_size = len(char2int)\r\n",
        "seq_len = maxlen - 1\r\n",
        "batch_size = len(text)\r\n",
        "\r\n",
        "def one_hot_encode(sequence, dict_size, seq_len, batch_size):\r\n",
        "    # Creating a multi-dimensional array of zeros with the desired output shape\r\n",
        "    features = np.zeros((batch_size, seq_len, dict_size), dtype=np.float32)\r\n",
        "    \r\n",
        "    # Replacing the 0 at the relevant character index with a 1 to represent that character\r\n",
        "    for i in range(batch_size):\r\n",
        "        for u in range(seq_len):\r\n",
        "            features[i, u, sequence[i][u]] = 1\r\n",
        "    return features"
      ],
      "execution_count": 8,
      "outputs": []
    },
    {
      "cell_type": "markdown",
      "metadata": {
        "id": "krhkph9W1CSP"
      },
      "source": [
        "We also defined a helper function that creates arrays of zeros for each character and replaces the corresponding character index with a 1."
      ]
    },
    {
      "cell_type": "code",
      "metadata": {
        "id": "HqW3b9QTsg_E"
      },
      "source": [
        "# Input shape --> (Batch Size, Sequence Length, One-Hot Encoding Size)\r\n",
        "input_seq = one_hot_encode(input_seq, dict_size, seq_len, batch_size)"
      ],
      "execution_count": 9,
      "outputs": []
    },
    {
      "cell_type": "markdown",
      "metadata": {
        "id": "8Ps99o_d1JdN"
      },
      "source": [
        "Since we're done with all the data pre-processing, we can now move the data from NumPy arrays to PyTorch's very own data structure - Torch Tensors."
      ]
    },
    {
      "cell_type": "code",
      "metadata": {
        "id": "IIdV9zwqsiDu"
      },
      "source": [
        "input_seq = torch.from_numpy(input_seq)\r\n",
        "target_seq = torch.Tensor(target_seq)"
      ],
      "execution_count": 10,
      "outputs": []
    },
    {
      "cell_type": "markdown",
      "metadata": {
        "id": "MpaUT8Gz1Orv"
      },
      "source": [
        "Now we've reached the fun part of this project! We'll be defining the model using the Torch library, and this is where you can add or remove layers, be it fully connected layers, convolutional layers, vanilla RNN layers, LSTM layers, and many more! In this post, we'll be using the basic nn.rnn to demonstrate a simple example of how RNNs can be used.\r\n",
        "\r\n",
        "Before we start building the model, let's use a built-in feature in PyTorch to check the device we're running on (CPU or GPU). This implementation will not require GPU as the training is really simple. However, as you progress on to large datasets and models with millions of trainable parameters, using the GPU will be very important to speed up your training."
      ]
    },
    {
      "cell_type": "code",
      "metadata": {
        "colab": {
          "base_uri": "https://localhost:8080/"
        },
        "id": "E4NnoOPFsk4a",
        "outputId": "a17d3393-4aca-44fb-dabe-ed44259d6b88"
      },
      "source": [
        "# torch.cuda.is_available() checks and returns a Boolean True if a GPU is available, else it'll return False\r\n",
        "is_cuda = torch.cuda.is_available()\r\n",
        "\r\n",
        "# If we have a GPU available, we'll set our device to GPU. We'll use this device variable later in our code.\r\n",
        "if is_cuda:\r\n",
        "    device = torch.device(\"cuda\")\r\n",
        "    print(\"GPU is available\")\r\n",
        "else:\r\n",
        "    device = torch.device(\"cpu\")\r\n",
        "    print(\"GPU not available, CPU used\")"
      ],
      "execution_count": 11,
      "outputs": [
        {
          "output_type": "stream",
          "text": [
            "GPU not available, CPU used\n"
          ],
          "name": "stdout"
        }
      ]
    },
    {
      "cell_type": "markdown",
      "metadata": {
        "id": "pl02tQfT1ZaT"
      },
      "source": [
        "To start building our own neural network model, we can define a class that inherits PyTorch’s base class(nn.module) for all neural network modules. After doing so, we can start defining some variables and also the layers for our model under the constructor. For this model, we’ll only be using 1 layer of RNN followed by a fully connected layer. The fully connected layer will be in charge of converting the RNN output to our desired output shape.\r\n",
        "\r\n",
        "We’ll also have to define the forward pass function under forward() as a class method. The forward function is executed sequentially, therefore we’ll have to pass the inputs and the zero-initialized hidden state through the RNN layer first, before passing the RNN outputs to the fully-connected layer. Note that we are using the layers that we defined in the constructor.\r\n",
        "\r\n",
        "The last method that we have to define is the method that we called earlier to initialize the hidden state - init_hidden(). This basically creates a tensor of zeros in the shape of our hidden states."
      ]
    },
    {
      "cell_type": "code",
      "metadata": {
        "id": "NIso8B-2spTl"
      },
      "source": [
        "class Model(nn.Module):\r\n",
        "    def __init__(self, input_size, output_size, hidden_dim, n_layers):\r\n",
        "        super(Model, self).__init__()\r\n",
        "\r\n",
        "        # Defining some parameters\r\n",
        "        self.hidden_dim = hidden_dim\r\n",
        "        self.n_layers = n_layers\r\n",
        "\r\n",
        "        #Defining the layers\r\n",
        "        # RNN Layer\r\n",
        "        self.rnn = nn.RNN(input_size, hidden_dim, n_layers, batch_first=True)   \r\n",
        "        # Fully connected layer\r\n",
        "        self.fc = nn.Linear(hidden_dim, output_size)\r\n",
        "    \r\n",
        "    def forward(self, x):\r\n",
        "        \r\n",
        "        batch_size = x.size(0)\r\n",
        "\r\n",
        "        # Initializing hidden state for first input using method defined below\r\n",
        "        hidden = self.init_hidden(batch_size)\r\n",
        "\r\n",
        "        # Passing in the input and hidden state into the model and obtaining outputs\r\n",
        "        out, hidden = self.rnn(x, hidden)\r\n",
        "        \r\n",
        "        # Reshaping the outputs such that it can be fit into the fully connected layer\r\n",
        "        out = out.contiguous().view(-1, self.hidden_dim)\r\n",
        "        out = self.fc(out)\r\n",
        "        \r\n",
        "        return out, hidden\r\n",
        "    \r\n",
        "    def init_hidden(self, batch_size):\r\n",
        "        # This method generates the first hidden state of zeros which we'll use in the forward pass\r\n",
        "        # We'll send the tensor holding the hidden state to the device we specified earlier as well\r\n",
        "        hidden = torch.zeros(self.n_layers, batch_size, self.hidden_dim)\r\n",
        "        return hidden"
      ],
      "execution_count": 12,
      "outputs": []
    },
    {
      "cell_type": "markdown",
      "metadata": {
        "id": "7K47_xQA1j1J"
      },
      "source": [
        "After defining the model above, we'll have to instantiate the model with the relevant parameters and define our hyper-parameters as well. The hyper-parameters we're defining below are:\r\n",
        "\r\n",
        "**n_epochs**: Number of Epochs --> Number of times our model will go through the entire training dataset\r\n",
        "\r\n",
        "**lr**: Learning Rate --> Rate at which our model updates the weights in the cells each time back-propagation is done\r\n",
        "\r\n",
        "For a more in-depth guide on hyper-parameters, you can refer to this comprehensive article.\r\n",
        "\r\n",
        "Similar to other neural networks, we have to define the optimizer and loss function as well. We’ll be using CrossEntropyLoss as the final output is basically a classification task and the common Adam optimizer."
      ]
    },
    {
      "cell_type": "code",
      "metadata": {
        "id": "ySpdRUWgswL8"
      },
      "source": [
        "# Instantiate the model with hyperparameters\r\n",
        "model = Model(input_size=dict_size, output_size=dict_size, hidden_dim=12, n_layers=1)\r\n",
        "# We'll also set the model to the device that we defined earlier (default is CPU)\r\n",
        "model.to(device)\r\n",
        "\r\n",
        "# Define hyperparameters\r\n",
        "n_epochs = 100\r\n",
        "lr=0.01\r\n",
        "\r\n",
        "# Define Loss, Optimizer\r\n",
        "criterion = nn.CrossEntropyLoss()\r\n",
        "optimizer = torch.optim.Adam(model.parameters(), lr=lr)"
      ],
      "execution_count": 13,
      "outputs": []
    },
    {
      "cell_type": "markdown",
      "metadata": {
        "id": "_FyCputJ15K8"
      },
      "source": [
        "Now we can begin our training! As we only have a few sentences, this training process is very fast. However, as we progress, larger datasets and deeper models mean that the input data is much larger and the number of parameters within the model that we have to compute is much more."
      ]
    },
    {
      "cell_type": "code",
      "metadata": {
        "colab": {
          "base_uri": "https://localhost:8080/"
        },
        "id": "sUf9Bcg7szzi",
        "outputId": "6c69ad11-9a65-4dc1-9ecb-66890a7c952c"
      },
      "source": [
        "# Training Run\r\n",
        "for epoch in range(1, n_epochs + 1):\r\n",
        "    optimizer.zero_grad() # Clears existing gradients from previous epoch\r\n",
        "    input_seq.to(device)\r\n",
        "    output, hidden = model(input_seq)\r\n",
        "    loss = criterion(output, target_seq.view(-1).long())\r\n",
        "    loss.backward() # Does backpropagation and calculates gradients\r\n",
        "    optimizer.step() # Updates the weights accordingly\r\n",
        "    \r\n",
        "    if epoch%10 == 0:\r\n",
        "        print('Epoch: {}/{}.............'.format(epoch, n_epochs), end=' ')\r\n",
        "        print(\"Loss: {:.4f}\".format(loss.item()))"
      ],
      "execution_count": 14,
      "outputs": [
        {
          "output_type": "stream",
          "text": [
            "Epoch: 10/100............. Loss: 2.4680\n",
            "Epoch: 20/100............. Loss: 2.1646\n",
            "Epoch: 30/100............. Loss: 1.7867\n",
            "Epoch: 40/100............. Loss: 1.3752\n",
            "Epoch: 50/100............. Loss: 0.9887\n",
            "Epoch: 60/100............. Loss: 0.6863\n",
            "Epoch: 70/100............. Loss: 0.4706\n",
            "Epoch: 80/100............. Loss: 0.3272\n",
            "Epoch: 90/100............. Loss: 0.2355\n",
            "Epoch: 100/100............. Loss: 0.1769\n"
          ],
          "name": "stdout"
        }
      ]
    },
    {
      "cell_type": "markdown",
      "metadata": {
        "id": "6PikOZRC1-Gz"
      },
      "source": [
        "Let’s test our model now and see what kind of output we will get. As a first step, we'll define some helper function to convert our model output back to text."
      ]
    },
    {
      "cell_type": "code",
      "metadata": {
        "id": "7Httshyxs3Na"
      },
      "source": [
        "# This function takes in the model and character as arguments and returns the next character prediction and hidden state\r\n",
        "def predict(model, character):\r\n",
        "    # One-hot encoding our input to fit into the model\r\n",
        "    character = np.array([[char2int[c] for c in character]])\r\n",
        "    character = one_hot_encode(character, dict_size, character.shape[1], 1)\r\n",
        "    character = torch.from_numpy(character)\r\n",
        "    character.to(device)\r\n",
        "    \r\n",
        "    out, hidden = model(character)\r\n",
        "\r\n",
        "    prob = nn.functional.softmax(out[-1], dim=0).data\r\n",
        "    # Taking the class with the highest probability score from the output\r\n",
        "    char_ind = torch.max(prob, dim=0)[1].item()\r\n",
        "\r\n",
        "    return int2char[char_ind], hidden"
      ],
      "execution_count": 15,
      "outputs": []
    },
    {
      "cell_type": "code",
      "metadata": {
        "id": "nlWP2ZS3s9R3"
      },
      "source": [
        "# This function takes the desired output length and input characters as arguments, returning the produced sentence\r\n",
        "def sample(model, out_len, start='hey'):\r\n",
        "    model.eval() # eval mode\r\n",
        "    start = start.lower()\r\n",
        "    # First off, run through the starting characters\r\n",
        "    chars = [ch for ch in start]\r\n",
        "    size = out_len - len(chars)\r\n",
        "    # Now pass in the previous characters and get a new one\r\n",
        "    for ii in range(size):\r\n",
        "        char, h = predict(model, chars)\r\n",
        "        chars.append(char)\r\n",
        "\r\n",
        "    return ''.join(chars)"
      ],
      "execution_count": 16,
      "outputs": []
    },
    {
      "cell_type": "markdown",
      "metadata": {
        "id": "tjz6upEz2GVe"
      },
      "source": [
        "Let's run the function with our model."
      ]
    },
    {
      "cell_type": "code",
      "metadata": {
        "colab": {
          "base_uri": "https://localhost:8080/",
          "height": 35
        },
        "id": "JThhADKEtAJM",
        "outputId": "0496847c-fd07-4703-901e-ab081f6ca8ba"
      },
      "source": [
        "sample(model, 15, 'hey')"
      ],
      "execution_count": 38,
      "outputs": [
        {
          "output_type": "execute_result",
          "data": {
            "application/vnd.google.colaboratory.intrinsic+json": {
              "type": "string"
            },
            "text/plain": [
              "'hey how are you'"
            ]
          },
          "metadata": {
            "tags": []
          },
          "execution_count": 38
        }
      ]
    }
  ]
}